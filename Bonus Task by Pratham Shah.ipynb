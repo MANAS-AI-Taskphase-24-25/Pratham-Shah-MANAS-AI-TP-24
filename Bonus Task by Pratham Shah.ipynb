{
 "cells": [
  {
   "cell_type": "markdown",
   "id": "fe9e6a69-a723-4ebc-9d07-b64b480d55ad",
   "metadata": {},
   "source": [
    "# Bonus Task (Predicting the Quality Rating)\n",
    "\n",
    "Implemented by Pratham Shah as part of the Project MANAS AI Taskphase '24-'25"
   ]
  },
  {
   "cell_type": "markdown",
   "id": "cfe6342b-10b0-43c9-9ec0-64fa89676345",
   "metadata": {},
   "source": [
    "## Importing libraries and storing the data:"
   ]
  },
  {
   "cell_type": "code",
   "execution_count": 1,
   "id": "2fe6af48-ff94-423d-a972-e563a3a6b776",
   "metadata": {},
   "outputs": [],
   "source": [
    "import pandas as pd\n",
    "import numpy as np\n",
    "import matplotlib.pyplot as plt\n",
    "\n",
    "seniors = pd.read_csv(\"Seniors.csv\")\n",
    "\n",
    "titles = list(seniors)\n",
    "\n",
    "data = seniors[titles[1:-1]]\n",
    "\n",
    "accuracies = seniors[\"Quality Rating\"]\n",
    "\n",
    "juniors = pd.read_csv(\"Juniors.csv\")\n",
    "\n",
    "juniors_data = juniors[titles[1:-1]]"
   ]
  },
  {
   "cell_type": "markdown",
   "id": "e3a398e6-441c-4cf9-af0a-4d01f902ff7c",
   "metadata": {},
   "source": [
    "## Multiple Linear Regression Functions:"
   ]
  },
  {
   "cell_type": "code",
   "execution_count": 2,
   "id": "7567d820-d8a9-4393-a1f2-f49836428200",
   "metadata": {},
   "outputs": [],
   "source": [
    "def z_score_normalise(X):\n",
    "    #Z score normalisation algorithm. Returns z score normalised dataset, means and std. deviations of the features.\n",
    "    # find the mean of each n columns\n",
    "    means     = np.mean(X, axis=0)                 # mean will have length n\n",
    "    # find the standard deviation of each n columns\n",
    "    stdevs  = np.std(X, axis=0)+0.00001                 # sigma will have length n. +0.00001 to prevent divide by 0 error.\n",
    "    X_norm = (X - means) / stdevs    \n",
    "\n",
    "    return (X_norm, means, stdevs)\n",
    "\n",
    "def calculate_cost(X, y, w, b):\n",
    "    m = X.shape[0] #stores number of training examples (m), to iterate through them\n",
    "    cost = 0.0\n",
    "    for i in range(m):                                      #iterates through training examples                            \n",
    "        value_using_given_params = np.dot(X.iloc[i], w) + b      #stores the predicted value of the data, using provided weights and bias\n",
    "        cost = cost + (value_using_given_params - y[i])**2  #calculates the 'sigma' part of the cost function \n",
    "    cost = cost / (2 * m)                                   #1/2m * sigma part = complete cost value          \n",
    "    return cost\n",
    "\n",
    "def calculate_gradient(X, y, w, b):\n",
    "    m,n = X.shape           #(number of examples, number of features)\n",
    "    dj_dw = np.zeros((n,))\n",
    "    dj_db = 0.\n",
    "    for i in range(m):                             \n",
    "        err = (np.dot(X.iloc[i], w) + b) - y[i] #calculates error between actual and predicted value\n",
    "        for j in range(n):                          \n",
    "            dj_dw[j] = dj_dw[j] + err * X.iloc[i, j]    \n",
    "        dj_db = dj_db + err                        \n",
    "    dj_dw = dj_dw / m                                \n",
    "    dj_db = dj_db / m                                \n",
    "    return dj_db, dj_dw #returns derivate of cost function wrt bias and weights\n",
    "\n",
    "def gradient_descent(X, y, w_init, b_init, cost_function, gradient_function, alpha, num_iters):\n",
    "    # An array to store cost J and w's at each iteration primarily for graphing later\n",
    "    J_history = []\n",
    "    w = w_init\n",
    "    b = b_init\n",
    "    for i in range(num_iters):\n",
    "        # Calculate the gradient and update the parameters\n",
    "        dj_db,dj_dw = gradient_function(X, y, w, b)\n",
    "\n",
    "        # Update Parameters using w, b, learning rate and gradient\n",
    "        w = w - alpha * dj_dw            \n",
    "        b = b - alpha * dj_db          \n",
    "      \n",
    "        # Save cost J at each iteration\n",
    "        J_history.append( cost_function(X, y, w, b))\n",
    "        if(i%10==0):\n",
    "            print(f\"{i+1} : {cost_function(X, y, w, b)}\")\n",
    "        \n",
    "    return w, b, J_history #return final w,b and J history for graphing\n",
    "\n",
    "def multiple_regression(xvals, yvals, initial_coeffs, initial_affine, iterations, learning_rate):\n",
    "  w_final, b_final, J_hist = gradient_descent(xvals, yvals, initial_coeffs, initial_affine,\n",
    "                                                      calculate_cost, calculate_gradient, \n",
    "                                                      learning_rate, iterations) #gets the final weights, bias and cost function history\n",
    "  print(w_final)\n",
    "  return w_final, b_final, J_hist\n"
   ]
  },
  {
   "cell_type": "markdown",
   "id": "a7254caa-0307-461e-a1f5-253b1b3fc0ed",
   "metadata": {},
   "source": [
    "## Training the Model:"
   ]
  },
  {
   "cell_type": "code",
   "execution_count": 5,
   "id": "272daff4-169d-437b-b7c8-55be3cb54184",
   "metadata": {},
   "outputs": [
    {
     "name": "stderr",
     "output_type": "stream",
     "text": [
      "/tmp/ipykernel_7339/3462046347.py:5: SettingWithCopyWarning: \n",
      "A value is trying to be set on a copy of a slice from a DataFrame.\n",
      "Try using .loc[row_indexer,col_indexer] = value instead\n",
      "\n",
      "See the caveats in the documentation: https://pandas.pydata.org/pandas-docs/stable/user_guide/indexing.html#returning-a-view-versus-a-copy\n",
      "  data['Temperature (°C)'] = data['Temperature (°C)'] ** raised_to[0]\n",
      "/tmp/ipykernel_7339/3462046347.py:6: SettingWithCopyWarning: \n",
      "A value is trying to be set on a copy of a slice from a DataFrame.\n",
      "Try using .loc[row_indexer,col_indexer] = value instead\n",
      "\n",
      "See the caveats in the documentation: https://pandas.pydata.org/pandas-docs/stable/user_guide/indexing.html#returning-a-view-versus-a-copy\n",
      "  data['Pressure (kPa)'] = data['Pressure (kPa)'] ** raised_to[1]\n",
      "/tmp/ipykernel_7339/3462046347.py:7: SettingWithCopyWarning: \n",
      "A value is trying to be set on a copy of a slice from a DataFrame.\n",
      "Try using .loc[row_indexer,col_indexer] = value instead\n",
      "\n",
      "See the caveats in the documentation: https://pandas.pydata.org/pandas-docs/stable/user_guide/indexing.html#returning-a-view-versus-a-copy\n",
      "  data['Temperature x Pressure'] = data['Temperature x Pressure'] ** raised_to[2]\n",
      "/tmp/ipykernel_7339/3462046347.py:8: SettingWithCopyWarning: \n",
      "A value is trying to be set on a copy of a slice from a DataFrame.\n",
      "Try using .loc[row_indexer,col_indexer] = value instead\n",
      "\n",
      "See the caveats in the documentation: https://pandas.pydata.org/pandas-docs/stable/user_guide/indexing.html#returning-a-view-versus-a-copy\n",
      "  data['Material Fusion Metric'] = data['Material Fusion Metric'] ** raised_to[3]\n",
      "/tmp/ipykernel_7339/3462046347.py:9: SettingWithCopyWarning: \n",
      "A value is trying to be set on a copy of a slice from a DataFrame.\n",
      "Try using .loc[row_indexer,col_indexer] = value instead\n",
      "\n",
      "See the caveats in the documentation: https://pandas.pydata.org/pandas-docs/stable/user_guide/indexing.html#returning-a-view-versus-a-copy\n",
      "  data['Material Transformation Metric'] = data['Material Transformation Metric'] ** raised_to[4]\n"
     ]
    },
    {
     "name": "stdout",
     "output_type": "stream",
     "text": [
      "1 : 2997.5486969041426\n",
      "11 : 59.759981803858956\n",
      "21 : 22.441578902621647\n",
      "31 : 20.6042537968984\n",
      "41 : 19.969418426889373\n",
      "51 : 19.642436037404877\n",
      "61 : 19.429944349971464\n",
      "71 : 19.262451586407423\n",
      "81 : 19.114280200934452\n",
      "91 : 18.97579118537237\n",
      "[ -3.3231391   -1.58404528   0.97260918   5.47744391 -12.67075665]\n"
     ]
    }
   ],
   "source": [
    "\n",
    "y_train = accuracies\n",
    "\n",
    "raised_to = [3, 1, 1, 1, 2]\n",
    "\n",
    "data['Temperature (°C)'] = data['Temperature (°C)'] ** raised_to[0]\n",
    "data['Pressure (kPa)'] = data['Pressure (kPa)'] ** raised_to[1]\n",
    "data['Temperature x Pressure'] = data['Temperature x Pressure'] ** raised_to[2]\n",
    "data['Material Fusion Metric'] = data['Material Fusion Metric'] ** raised_to[3]\n",
    "data['Material Transformation Metric'] = data['Material Transformation Metric'] ** raised_to[4]\n",
    "\n",
    "X_train, feature_means, feature_stddevs = z_score_normalise(data)\n",
    "\n",
    "b_init = 0\n",
    "w_init = np.zeros(5)\n",
    "coeffs, affine, hist = multiple_regression(X_train, y_train, np.zeros_like(w_init), 0, 100, 0.2) #stores final weights, bias and cost function history"
   ]
  },
  {
   "cell_type": "markdown",
   "id": "ffb9f3cb-4d3f-4233-9c7c-c3b44d86091d",
   "metadata": {},
   "source": [
    "## Working with the Predictions and Storing them in the Juniors.csv file:"
   ]
  },
  {
   "cell_type": "code",
   "execution_count": 7,
   "id": "0ccce276-10bc-4c3b-882e-d0a4e82633dd",
   "metadata": {},
   "outputs": [
    {
     "name": "stdout",
     "output_type": "stream",
     "text": [
      "Unnamed: 0 doesn't exist anymore :)\n"
     ]
    },
    {
     "name": "stderr",
     "output_type": "stream",
     "text": [
      "/tmp/ipykernel_7339/77198814.py:1: SettingWithCopyWarning: \n",
      "A value is trying to be set on a copy of a slice from a DataFrame.\n",
      "Try using .loc[row_indexer,col_indexer] = value instead\n",
      "\n",
      "See the caveats in the documentation: https://pandas.pydata.org/pandas-docs/stable/user_guide/indexing.html#returning-a-view-versus-a-copy\n",
      "  juniors_data['Temperature (°C)'] = juniors_data['Temperature (°C)'] ** raised_to[0]\n",
      "/tmp/ipykernel_7339/77198814.py:2: SettingWithCopyWarning: \n",
      "A value is trying to be set on a copy of a slice from a DataFrame.\n",
      "Try using .loc[row_indexer,col_indexer] = value instead\n",
      "\n",
      "See the caveats in the documentation: https://pandas.pydata.org/pandas-docs/stable/user_guide/indexing.html#returning-a-view-versus-a-copy\n",
      "  juniors_data['Pressure (kPa)'] = juniors_data['Pressure (kPa)'] ** raised_to[1]\n",
      "/tmp/ipykernel_7339/77198814.py:3: SettingWithCopyWarning: \n",
      "A value is trying to be set on a copy of a slice from a DataFrame.\n",
      "Try using .loc[row_indexer,col_indexer] = value instead\n",
      "\n",
      "See the caveats in the documentation: https://pandas.pydata.org/pandas-docs/stable/user_guide/indexing.html#returning-a-view-versus-a-copy\n",
      "  juniors_data['Temperature x Pressure'] = juniors_data['Temperature x Pressure'] ** raised_to[2]\n",
      "/tmp/ipykernel_7339/77198814.py:4: SettingWithCopyWarning: \n",
      "A value is trying to be set on a copy of a slice from a DataFrame.\n",
      "Try using .loc[row_indexer,col_indexer] = value instead\n",
      "\n",
      "See the caveats in the documentation: https://pandas.pydata.org/pandas-docs/stable/user_guide/indexing.html#returning-a-view-versus-a-copy\n",
      "  juniors_data['Material Fusion Metric'] = juniors_data['Material Fusion Metric'] ** raised_to[3]\n",
      "/tmp/ipykernel_7339/77198814.py:5: SettingWithCopyWarning: \n",
      "A value is trying to be set on a copy of a slice from a DataFrame.\n",
      "Try using .loc[row_indexer,col_indexer] = value instead\n",
      "\n",
      "See the caveats in the documentation: https://pandas.pydata.org/pandas-docs/stable/user_guide/indexing.html#returning-a-view-versus-a-copy\n",
      "  juniors_data['Material Transformation Metric'] = juniors_data['Material Transformation Metric'] ** raised_to[4]\n"
     ]
    }
   ],
   "source": [
    "juniors_data['Temperature (°C)'] = juniors_data['Temperature (°C)'] ** raised_to[0]\n",
    "juniors_data['Pressure (kPa)'] = juniors_data['Pressure (kPa)'] ** raised_to[1]\n",
    "juniors_data['Temperature x Pressure'] = juniors_data['Temperature x Pressure'] ** raised_to[2]\n",
    "juniors_data['Material Fusion Metric'] = juniors_data['Material Fusion Metric'] ** raised_to[3]\n",
    "juniors_data['Material Transformation Metric'] = juniors_data['Material Transformation Metric'] ** raised_to[4]\n",
    "\n",
    "data_to_test, test_means, test_stddevs = z_score_normalise(juniors_data)\n",
    "\n",
    "predictions = []\n",
    "for value in data_to_test.iterrows():\n",
    "    prediction = np.dot(value[1].values, coeffs) + affine\n",
    "    if(prediction > 100):\n",
    "        prediction = 100\n",
    "    predictions.append(prediction)\n",
    "\n",
    "juniors['Quality Rating'] = predictions\n",
    "\n",
    "try:\n",
    "    juniors.drop(\"Unnamed: 0\", inplace = True, axis=1)\n",
    "except:\n",
    "    print(\"Unnamed: 0 doesn't exist anymore :)\")\n",
    "for column in list(juniors):\n",
    "    if all(x == y for x, y in zip(juniors[column], range(0, len(juniors)))):\n",
    "        juniors.drop(column, inplace=True, axis=1)\n",
    "    \n",
    "juniors.to_csv(\"Output.csv\", index = False)\n"
   ]
  },
  {
   "cell_type": "markdown",
   "id": "c4ab84d6-25fe-4bfe-90bc-65f9c74e897a",
   "metadata": {},
   "source": [
    "## Conclusion:\n",
    "\n",
    "The multiple linear regression model is predicting the values of the Quality Rating to a high degree of efficiency. I have capped the Quality Rating to 100.\n",
    "\n",
    "The edited CSV file with the added 'Quality Rating' column has been uploaded."
   ]
  }
 ],
 "metadata": {
  "kernelspec": {
   "display_name": "Python 3 (ipykernel)",
   "language": "python",
   "name": "python3"
  },
  "language_info": {
   "codemirror_mode": {
    "name": "ipython",
    "version": 3
   },
   "file_extension": ".py",
   "mimetype": "text/x-python",
   "name": "python",
   "nbconvert_exporter": "python",
   "pygments_lexer": "ipython3",
   "version": "3.10.12"
  }
 },
 "nbformat": 4,
 "nbformat_minor": 5
}
